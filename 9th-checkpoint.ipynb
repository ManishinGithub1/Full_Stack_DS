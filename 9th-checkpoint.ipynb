{
 "cells": [
  {
   "cell_type": "code",
   "execution_count": 1,
   "id": "d9f344da-9746-4889-ba76-90adeece9842",
   "metadata": {},
   "outputs": [
    {
     "data": {
      "text/plain": [
       "4"
      ]
     },
     "execution_count": 1,
     "metadata": {},
     "output_type": "execute_result"
    }
   ],
   "source": [
    "i=4\n",
    "i"
   ]
  },
  {
   "cell_type": "code",
   "execution_count": 3,
   "id": "afa0bbef-6785-4c16-b5cc-95b5a3ad1083",
   "metadata": {},
   "outputs": [
    {
     "name": "stdout",
     "output_type": "stream",
     "text": [
      "<class 'int'>\n"
     ]
    }
   ],
   "source": [
    "print(type(i))\n"
   ]
  },
  {
   "cell_type": "code",
   "execution_count": 5,
   "id": "4268054d-9d00-47f1-a9af-ac4f2530282c",
   "metadata": {},
   "outputs": [],
   "source": [
    "f=3e0"
   ]
  },
  {
   "cell_type": "code",
   "execution_count": 7,
   "id": "dd55f481-b2ea-48c3-ab67-3057e81af72f",
   "metadata": {},
   "outputs": [
    {
     "data": {
      "text/plain": [
       "3.0"
      ]
     },
     "execution_count": 7,
     "metadata": {},
     "output_type": "execute_result"
    }
   ],
   "source": [
    "f"
   ]
  },
  {
   "cell_type": "code",
   "execution_count": 9,
   "id": "c73b7c47-951d-4dcf-a14e-0ad700bcfa4a",
   "metadata": {},
   "outputs": [
    {
     "data": {
      "text/plain": [
       "30.0"
      ]
     },
     "execution_count": 9,
     "metadata": {},
     "output_type": "execute_result"
    }
   ],
   "source": [
    "f1=3e1\n",
    "f1"
   ]
  },
  {
   "cell_type": "code",
   "execution_count": 11,
   "id": "f00b636a-db42-499c-b2a1-c7fef5067c74",
   "metadata": {},
   "outputs": [
    {
     "data": {
      "text/plain": [
       "300.0"
      ]
     },
     "execution_count": 11,
     "metadata": {},
     "output_type": "execute_result"
    }
   ],
   "source": [
    "f2=3e2\n",
    "f2"
   ]
  },
  {
   "cell_type": "code",
   "execution_count": 13,
   "id": "46ff42ca-e9e7-4b77-9272-d052ccdc9dcc",
   "metadata": {},
   "outputs": [],
   "source": [
    "ff=110.78"
   ]
  },
  {
   "cell_type": "code",
   "execution_count": 17,
   "id": "23481241-5f4a-427b-a8d3-db879b90865f",
   "metadata": {},
   "outputs": [
    {
     "name": "stdout",
     "output_type": "stream",
     "text": [
      "3.0\n",
      "<class 'float'>\n"
     ]
    }
   ],
   "source": [
    "print(f)\n",
    "print(type(f2))"
   ]
  },
  {
   "cell_type": "code",
   "execution_count": 19,
   "id": "bd88ec43-d734-4298-9dd8-8237ca55e73c",
   "metadata": {},
   "outputs": [
    {
     "data": {
      "text/plain": [
       "23000.0"
      ]
     },
     "execution_count": 19,
     "metadata": {},
     "output_type": "execute_result"
    }
   ],
   "source": [
    "f4=2.3e4\n",
    "f4"
   ]
  },
  {
   "cell_type": "code",
   "execution_count": 26,
   "id": "d10cd05c-4368-4a19-9f51-b82da698c257",
   "metadata": {},
   "outputs": [
    {
     "data": {
      "text/plain": [
       "False"
      ]
     },
     "execution_count": 26,
     "metadata": {},
     "output_type": "execute_result"
    }
   ],
   "source": [
    "False "
   ]
  },
  {
   "cell_type": "code",
   "execution_count": 23,
   "id": "48926715-9445-472d-9fce-571a5e62c346",
   "metadata": {},
   "outputs": [
    {
     "data": {
      "text/plain": [
       "True"
      ]
     },
     "execution_count": 23,
     "metadata": {},
     "output_type": "execute_result"
    }
   ],
   "source": [
    "True"
   ]
  },
  {
   "cell_type": "code",
   "execution_count": 28,
   "id": "58534a77-4942-44f3-a90f-77827dbaa57c",
   "metadata": {},
   "outputs": [],
   "source": [
    "  None"
   ]
  },
  {
   "cell_type": "code",
   "execution_count": 34,
   "id": "d56745ef-c798-4a52-ae96-f6c983252041",
   "metadata": {},
   "outputs": [
    {
     "data": {
      "text/plain": [
       "2"
      ]
     },
     "execution_count": 34,
     "metadata": {},
     "output_type": "execute_result"
    }
   ],
   "source": [
    "True+True"
   ]
  },
  {
   "cell_type": "code",
   "execution_count": 32,
   "id": "622a84df-9c54-4775-9288-6113d4177dd0",
   "metadata": {},
   "outputs": [
    {
     "data": {
      "text/plain": [
       "1"
      ]
     },
     "execution_count": 32,
     "metadata": {},
     "output_type": "execute_result"
    }
   ],
   "source": [
    "True+False"
   ]
  },
  {
   "cell_type": "code",
   "execution_count": 36,
   "id": "eab60e6a-6a3d-4386-b2ec-88e9dae944a7",
   "metadata": {},
   "outputs": [
    {
     "data": {
      "text/plain": [
       "1"
      ]
     },
     "execution_count": 36,
     "metadata": {},
     "output_type": "execute_result"
    }
   ],
   "source": [
    "True+(False*True)-False"
   ]
  },
  {
   "cell_type": "code",
   "execution_count": 38,
   "id": "c0048ede-b1a9-472e-b931-99f3f6b7f184",
   "metadata": {},
   "outputs": [
    {
     "data": {
      "text/plain": [
       "0"
      ]
     },
     "execution_count": 38,
     "metadata": {},
     "output_type": "execute_result"
    }
   ],
   "source": [
    "True+(False*True)-True"
   ]
  },
  {
   "cell_type": "code",
   "execution_count": 52,
   "id": "49d0bd64-100c-4af4-84ba-bc815eb4d6fe",
   "metadata": {},
   "outputs": [
    {
     "name": "stdout",
     "output_type": "stream",
     "text": [
      "(10+20j)\n"
     ]
    },
    {
     "data": {
      "text/plain": [
       "complex"
      ]
     },
     "execution_count": 52,
     "metadata": {},
     "output_type": "execute_result"
    }
   ],
   "source": [
    "complex=10+20j\n",
    "c=30+20j\n",
    "print(complex)\n",
    "type(complex)"
   ]
  },
  {
   "cell_type": "code",
   "execution_count": 54,
   "id": "7ae70b81-bb75-470a-b28e-070b6dc9f11e",
   "metadata": {},
   "outputs": [
    {
     "data": {
      "text/plain": [
       "(40+40j)"
      ]
     },
     "execution_count": 54,
     "metadata": {},
     "output_type": "execute_result"
    }
   ],
   "source": [
    "complex+c"
   ]
  },
  {
   "cell_type": "code",
   "execution_count": 56,
   "id": "07e3ff87-bec8-47e5-bcc9-bf46933f7f98",
   "metadata": {},
   "outputs": [
    {
     "data": {
      "text/plain": [
       "30.0"
      ]
     },
     "execution_count": 56,
     "metadata": {},
     "output_type": "execute_result"
    }
   ],
   "source": [
    "c.real"
   ]
  },
  {
   "cell_type": "code",
   "execution_count": 58,
   "id": "43e7ad0a-d5cb-4a3f-a636-f26e05ea3335",
   "metadata": {},
   "outputs": [
    {
     "data": {
      "text/plain": [
       "20.0"
      ]
     },
     "execution_count": 58,
     "metadata": {},
     "output_type": "execute_result"
    }
   ],
   "source": [
    "c.imag"
   ]
  },
  {
   "cell_type": "code",
   "execution_count": null,
   "id": "4ee9cf1f-38f2-4138-82f8-4d5ddd06a99f",
   "metadata": {},
   "outputs": [],
   "source": []
  }
 ],
 "metadata": {
  "kernelspec": {
   "display_name": "Python 3 (ipykernel)",
   "language": "python",
   "name": "python3"
  },
  "language_info": {
   "codemirror_mode": {
    "name": "ipython",
    "version": 3
   },
   "file_extension": ".py",
   "mimetype": "text/x-python",
   "name": "python",
   "nbconvert_exporter": "python",
   "pygments_lexer": "ipython3",
   "version": "3.12.7"
  }
 },
 "nbformat": 4,
 "nbformat_minor": 5
}
