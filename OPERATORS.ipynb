{
 "cells": [
  {
   "cell_type": "markdown",
   "id": "c8c9adff-1d2f-4e9f-a69e-ea607e5780ea",
   "metadata": {
    "panel-layout": {
     "height": 51.13750076293945,
     "visible": true,
     "width": 100
    }
   },
   "source": [
    "Operators.\n"
   ]
  },
  {
   "cell_type": "markdown",
   "id": "7d9b6fdb-f1fe-4554-9373-903dfa694faa",
   "metadata": {
    "panel-layout": {
     "height": 51.13750076293945,
     "visible": true,
     "width": 100
    }
   },
   "source": [
    "Arithmatic Operators: (+,-,*,/,//,%,**)"
   ]
  },
  {
   "cell_type": "code",
   "execution_count": 13,
   "id": "04f90099-371f-4d18-926f-524b79f9e5e1",
   "metadata": {},
   "outputs": [],
   "source": [
    "a=12\n",
    "b=6"
   ]
  },
  {
   "cell_type": "code",
   "execution_count": 31,
   "id": "932357f3-b2cb-4951-9fef-39837ef917ba",
   "metadata": {
    "panel-layout": {
     "height": 0,
     "visible": true,
     "width": 100
    }
   },
   "outputs": [
    {
     "name": "stdout",
     "output_type": "stream",
     "text": [
      "a+b = 18\n",
      "a-b= 6\n",
      "a*b= 72\n",
      "a/b= 2.0\n",
      "a//b= 2\n",
      "a%b= 0\n",
      "a**b= 2985984\n"
     ]
    }
   ],
   "source": [
    "print(f'a+b =',a+b)\n",
    "print(\"a-b=\",a-b)\n",
    "print(\"a*b=\",a*b)\n",
    "print(\"a/b=\",a/b)\n",
    "print(\"a//b=\",a//b)\n",
    "print(\"a%b=\",a%b)\n",
    "print(\"a**b=\",a**b)"
   ]
  },
  {
   "cell_type": "markdown",
   "id": "1326754f-8ea5-480f-9c94-e333341d9ee4",
   "metadata": {
    "panel-layout": {
     "height": 51.13750076293945,
     "visible": true,
     "width": 100
    }
   },
   "source": [
    "Relational Operators: (>,<,==,>=,<=,!=)"
   ]
  },
  {
   "cell_type": "code",
   "execution_count": 38,
   "id": "d8bdec33-f94b-4779-aebe-e284852f67b5",
   "metadata": {},
   "outputs": [
    {
     "name": "stdout",
     "output_type": "stream",
     "text": [
      "Is a>b: True\n",
      "Is a<b: False\n",
      "Is a equal b: False\n",
      "Is a greater than or equal to b: True\n",
      "Is a less than or equal to b: False\n",
      "Is a not equal to b: True\n"
     ]
    }
   ],
   "source": [
    "print(\"Is a>b:\",a>b)\n",
    "print(\"Is a<b:\",a<b)\n",
    "print(\"Is a equal b:\",a==b)\n",
    "print(\"Is a greater than or equal to b:\",a>=b)\n",
    "print(\"Is a less than or equal to b:\",a<=b)\n",
    "print(\"Is a not equal to b:\",a!=b)"
   ]
  },
  {
   "cell_type": "markdown",
   "id": "1c7a58af-8f68-4221-b2a9-9b878576b85e",
   "metadata": {},
   "source": [
    "Logical Operator"
   ]
  },
  {
   "cell_type": "code",
   "execution_count": 66,
   "id": "ab0e7bcc-2552-4439-bf1a-5ab6338fb25c",
   "metadata": {},
   "outputs": [
    {
     "name": "stdout",
     "output_type": "stream",
     "text": [
      "And: 6\n",
      "OR: 12\n",
      "Not: False\n",
      "AND AND: 6\n"
     ]
    }
   ],
   "source": [
    "print(\"And:\",a and b)\n",
    "print(\"OR:\",a or b)\n",
    "print(\"Not:\",not a)\n"
   ]
  },
  {
   "cell_type": "markdown",
   "id": "647b01fc-b6a3-4f12-868f-7a2caf127d1d",
   "metadata": {},
   "source": [
    "Bitwise Operator (Uses Binary format)"
   ]
  },
  {
   "cell_type": "code",
   "execution_count": 86,
   "id": "9f8775ef-cd85-4691-936f-41f4b0b31c41",
   "metadata": {},
   "outputs": [
    {
     "name": "stdout",
     "output_type": "stream",
     "text": [
      "And- 4\n",
      "OR- 14\n",
      "XOR- 10\n",
      "Not- -7\n",
      "Right Shift 6\n",
      "Left Shift 96\n"
     ]
    }
   ],
   "source": [
    "print('And-',a & b)\n",
    "print('OR-',a|b)\n",
    "print('XOR-',a ^b)\n",
    "print('Not-',~b)\n",
    "print('Right Shift',a>>1)\n",
    "print('Left Shift',a<<3)"
   ]
  },
  {
   "cell_type": "markdown",
   "id": "a7626262-7253-4eba-a988-d0030c4d8ad4",
   "metadata": {},
   "source": [
    "Assignment Operators "
   ]
  },
  {
   "cell_type": "code",
   "execution_count": null,
   "id": "837bfde3-4dfd-42aa-b486-ba57b363494e",
   "metadata": {},
   "outputs": [],
   "source": [
    "a1=a\n",
    "print(\"Equal-\",a1)\n",
    "a+=b\n",
    "print(\"Addition Assignment-\",a)\n",
    "a-=5\n",
    "print(\"Subtraction Assignment-\",a)\n",
    "b*=2\n",
    "print(\"Multiplication Assignment-\",b)\n",
    "a/=2\n",
    "print(\"Division Assignment-\",a)\n",
    "a%=b\n",
    "print(\"Modulo Assignment-\",a)\n",
    "a//=4\n",
    "print(\"Floor Division-\",a)\n",
    "a**=2\n",
    "print(\"Exponential Assignment\",a)"
   ]
  },
  {
   "cell_type": "code",
   "execution_count": null,
   "id": "f42219e0-5b11-4ba2-961f-a5de96c6f00a",
   "metadata": {},
   "outputs": [],
   "source": [
    "New Operator - Walrus Operator"
   ]
  },
  {
   "cell_type": "code",
   "execution_count": null,
   "id": "1a53dfaf-7dc7-4753-ad5e-fb7ed4f7de09",
   "metadata": {},
   "outputs": [],
   "source": [
    "a=[1,2,3,4]\n",
    "while(x:=len(a))>1:\n",
    "    a.pop()\n",
    "    print(x)"
   ]
  },
  {
   "cell_type": "code",
   "execution_count": null,
   "id": "2eb30dba-df44-48ad-9e50-46859a1a7c05",
   "metadata": {},
   "outputs": [],
   "source": []
  },
  {
   "cell_type": "code",
   "execution_count": null,
   "id": "0586edab-f15e-487f-967b-090c398bbe03",
   "metadata": {},
   "outputs": [],
   "source": []
  }
 ],
 "metadata": {
  "kernelspec": {
   "display_name": "Python 3 (ipykernel)",
   "language": "python",
   "name": "python3"
  },
  "language_info": {
   "codemirror_mode": {
    "name": "ipython",
    "version": 3
   },
   "file_extension": ".py",
   "mimetype": "text/x-python",
   "name": "python",
   "nbconvert_exporter": "python",
   "pygments_lexer": "ipython3",
   "version": "3.12.7"
  },
  "panel-cell-order": [
   "c8c9adff-1d2f-4e9f-a69e-ea607e5780ea",
   "7d9b6fdb-f1fe-4554-9373-903dfa694faa",
   "932357f3-b2cb-4951-9fef-39837ef917ba",
   "1326754f-8ea5-480f-9c94-e333341d9ee4"
  ]
 },
 "nbformat": 4,
 "nbformat_minor": 5
}
