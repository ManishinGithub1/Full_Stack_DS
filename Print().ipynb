{
 "cells": [
  {
   "cell_type": "code",
   "execution_count": 5,
   "id": "fdf261ff-3aab-47b0-a99b-80403a6efc03",
   "metadata": {},
   "outputs": [
    {
     "name": "stdout",
     "output_type": "stream",
     "text": [
      "The Addition of 3 and 5 is  8\n"
     ]
    }
   ],
   "source": [
    "n1=3\n",
    "n2=5\n",
    "add=n1+n2\n",
    "print(\"The Addition of\",n1, \"and\",n2,\"is \",add)"
   ]
  },
  {
   "cell_type": "code",
   "execution_count": 7,
   "id": "801a1b80-22a7-4ddb-927a-b3170108387e",
   "metadata": {},
   "outputs": [
    {
     "name": "stdout",
     "output_type": "stream",
     "text": [
      "My Name is Python and I am 20 years old working around from hyd\n"
     ]
    }
   ],
   "source": [
    "name=\"Python\"\n",
    "age=20\n",
    "city=\"hyd\"\n",
    "print(\"My Name is\", name,\"and I am\",age,\"years old working around from\",city)"
   ]
  },
  {
   "cell_type": "raw",
   "id": "97984664-d9b5-4d8f-9881-ca855419fd4c",
   "metadata": {},
   "source": []
  },
  {
   "cell_type": "code",
   "execution_count": 15,
   "id": "8b28c664-55b5-422d-9b42-f67d0d346ca7",
   "metadata": {},
   "outputs": [
    {
     "name": "stdout",
     "output_type": "stream",
     "text": [
      "The Addition of 3 and 5 is = 8\n"
     ]
    }
   ],
   "source": [
    "print(\"The Addition of {} and {} is = {}\".format(n1,n2,add))"
   ]
  },
  {
   "cell_type": "code",
   "execution_count": 37,
   "id": "2434b55f-8d9f-4260-b097-cd381dbc3c1b",
   "metadata": {},
   "outputs": [
    {
     "name": "stdout",
     "output_type": "stream",
     "text": [
      "152.66666666666666 and 152.67\n"
     ]
    }
   ],
   "source": [
    "num1=100\n",
    "num2=25\n",
    "num3=333\n",
    "avg=(num1+num2+num3)/3\n",
    "avg1=round(avg,2)\n",
    "\n",
    "print(\"{} and {}\".format(avg,avg1))"
   ]
  },
  {
   "cell_type": "code",
   "execution_count": 41,
   "id": "c3e60ee0-9745-445c-8a07-a61cec5495e2",
   "metadata": {},
   "outputs": [
    {
     "name": "stdout",
     "output_type": "stream",
     "text": [
      "The Addition of 30 and 50 is= 80\n"
     ]
    }
   ],
   "source": [
    "a=30\n",
    "b=50\n",
    "add=a+b\n",
    "print(f'The Addition of {a} and {b} is= {add}')"
   ]
  },
  {
   "cell_type": "code",
   "execution_count": 43,
   "id": "3843f043-cd30-4b27-a047-9db88b5ef42c",
   "metadata": {},
   "outputs": [
    {
     "name": "stdout",
     "output_type": "stream",
     "text": [
      "Hello Good Evening all\n"
     ]
    }
   ],
   "source": [
    "# End Statement\n",
    "print(\"Hello\",end=' ')\n",
    "print(\"Good Evening all\")"
   ]
  },
  {
   "cell_type": "code",
   "execution_count": 69,
   "id": "b7600af9-0bab-47bf-891e-0191a0588e6d",
   "metadata": {},
   "outputs": [
    {
     "name": "stdout",
     "output_type": "stream",
     "text": [
      "Hello -->Hi -->Yo -->Hola\n",
      "Hello &Hi  &Yo &Hola\n",
      "Hello @Hi @Yo @Hola\n",
      "Hello [3]Hi [3]Yo [3]Hola [3]\n"
     ]
    }
   ],
   "source": [
    "#Seperator\n",
    "print(\"Hello\",\"Hi\",\"Yo\",\"Hola\",sep=' -->')\n",
    "print(\"Hello\",\"Hi \",\"Yo\",\"Hola\",sep=' &')\n",
    "print(\"Hello\",\"Hi\",\"Yo\",\"Hola\",sep=' @')\n",
    "print(\"Hello\",\"Hi\",\"Yo\",\"Hola\",\"\",sep=' [3]')"
   ]
  },
  {
   "cell_type": "code",
   "execution_count": 93,
   "id": "50949c44-9219-4c6a-a9d2-227420d92bd4",
   "metadata": {},
   "outputs": [
    {
     "name": "stdout",
     "output_type": "stream",
     "text": [
      "3 .\n",
      "3.\n",
      "1 22\n",
      "324\n"
     ]
    }
   ],
   "source": [
    "print(3,'.')\n",
    "print(3,'.',sep='')\n",
    "print(1,2,end='')\n",
    "print(2)\n",
    "print(3,4,sep='2')"
   ]
  },
  {
   "cell_type": "code",
   "execution_count": null,
   "id": "57aaf98d-28a9-4661-a700-de2361e8b680",
   "metadata": {},
   "outputs": [],
   "source": []
  }
 ],
 "metadata": {
  "kernelspec": {
   "display_name": "Python 3 (ipykernel)",
   "language": "python",
   "name": "python3"
  },
  "language_info": {
   "codemirror_mode": {
    "name": "ipython",
    "version": 3
   },
   "file_extension": ".py",
   "mimetype": "text/x-python",
   "name": "python",
   "nbconvert_exporter": "python",
   "pygments_lexer": "ipython3",
   "version": "3.12.7"
  }
 },
 "nbformat": 4,
 "nbformat_minor": 5
}
