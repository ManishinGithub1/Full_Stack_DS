{
 "cells": [
  {
   "cell_type": "code",
   "execution_count": 1,
   "id": "9c298d06-502a-4387-8b0f-281490b4ad85",
   "metadata": {},
   "outputs": [],
   "source": [
    " t=4"
   ]
  },
  {
   "cell_type": "code",
   "execution_count": 3,
   "id": "f50999eb-f0f2-4bb1-a176-866bbd15465e",
   "metadata": {},
   "outputs": [
    {
     "data": {
      "text/plain": [
       "4"
      ]
     },
     "execution_count": 3,
     "metadata": {},
     "output_type": "execute_result"
    }
   ],
   "source": [
    "t"
   ]
  },
  {
   "cell_type": "code",
   "execution_count": 5,
   "id": "c7bc8926-1532-4b38-85fd-d53171ce3f68",
   "metadata": {},
   "outputs": [
    {
     "data": {
      "text/plain": [
       "'{\"dataframes\": [], \"user\": \"ymani\"}'"
      ]
     },
     "execution_count": 5,
     "metadata": {},
     "output_type": "execute_result"
    }
   ],
   "source": [
    "_"
   ]
  },
  {
   "cell_type": "code",
   "execution_count": 7,
   "id": "51b83dce-809e-45fd-a64e-32a685c3721d",
   "metadata": {},
   "outputs": [
    {
     "data": {
      "text/plain": [
       "{'{\"dataframes\": [], \"user\": \"ymani\"}'}"
      ]
     },
     "execution_count": 7,
     "metadata": {},
     "output_type": "execute_result"
    }
   ],
   "source": [
    "{_}"
   ]
  },
  {
   "cell_type": "code",
   "execution_count": 22,
   "id": "44a5f5b9-bd84-4dde-a5ac-17b9133f7efc",
   "metadata": {},
   "outputs": [
    {
     "name": "stdout",
     "output_type": "stream",
     "text": [
      "3\n"
     ]
    }
   ],
   "source": [
    "sa=3\n",
    "print(sa)\n"
   ]
  },
  {
   "cell_type": "code",
   "execution_count": 26,
   "id": "8978ed86-d7d5-4d10-82aa-9c837f21a74a",
   "metadata": {},
   "outputs": [
    {
     "name": "stdout",
     "output_type": "stream",
     "text": [
      "3 4 5\n"
     ]
    }
   ],
   "source": [
    "a,b,c=3,4,5\n",
    "print(a,b,c)"
   ]
  },
  {
   "cell_type": "code",
   "execution_count": 21,
   "id": "9eb33166-02ab-4322-89dc-8a8312eb1d5d",
   "metadata": {},
   "outputs": [],
   "source": [
    "s1='Naresh tch'\n"
   ]
  },
  {
   "cell_type": "code",
   "execution_count": 13,
   "id": "aae3d8e5-8d16-4ce1-80de-a17d6743b67c",
   "metadata": {},
   "outputs": [
    {
     "data": {
      "text/plain": [
       "'Naresh\\nTechhh'"
      ]
     },
     "execution_count": 13,
     "metadata": {},
     "output_type": "execute_result"
    }
   ],
   "source": [
    "s1\n",
    "s3=\"\"\"Naresh\n",
    "Techhh\"\"\"\n",
    "s3"
   ]
  },
  {
   "cell_type": "code",
   "execution_count": 15,
   "id": "d337a97e-35d2-4c5f-bedc-058524b00598",
   "metadata": {},
   "outputs": [
    {
     "name": "stdout",
     "output_type": "stream",
     "text": [
      "N\n",
      "a\n",
      "r\n",
      "e\n",
      "s\n",
      "h\n",
      "\n",
      "\n",
      "T\n",
      "e\n",
      "c\n",
      "h\n",
      "h\n",
      "h\n"
     ]
    }
   ],
   "source": [
    "for i in s3:\n",
    "    print(i)"
   ]
  },
  {
   "cell_type": "code",
   "execution_count": 25,
   "id": "47700cce-4547-45d5-a310-038b83f195f4",
   "metadata": {},
   "outputs": [
    {
     "data": {
      "text/plain": [
       "'e'"
      ]
     },
     "execution_count": 25,
     "metadata": {},
     "output_type": "execute_result"
    }
   ],
   "source": [
    "ss='naresht'\n",
    "ss[3]\n"
   ]
  },
  {
   "cell_type": "code",
   "execution_count": 23,
   "id": "e231ef80-9c07-4e29-b437-579020b02431",
   "metadata": {},
   "outputs": [
    {
     "data": {
      "text/plain": [
       "'s'"
      ]
     },
     "execution_count": 23,
     "metadata": {},
     "output_type": "execute_result"
    }
   ],
   "source": [
    "ss[-3]"
   ]
  },
  {
   "cell_type": "code",
   "execution_count": 37,
   "id": "3cc84a50-0a1a-4ed7-8309-7c79b63c5a6b",
   "metadata": {},
   "outputs": [
    {
     "data": {
      "text/plain": [
       "'naresh'"
      ]
     },
     "execution_count": 37,
     "metadata": {},
     "output_type": "execute_result"
    }
   ],
   "source": [
    "ss[-7:6:]"
   ]
  },
  {
   "cell_type": "code",
   "execution_count": 43,
   "id": "356e3a69-2410-4943-b89b-3768b4d02f92",
   "metadata": {},
   "outputs": [
    {
     "data": {
      "text/plain": [
       "'HELLO Python'"
      ]
     },
     "execution_count": 43,
     "metadata": {},
     "output_type": "execute_result"
    }
   ],
   "source": [
    "s1=\"HELLO \"\n",
    "s2=\"Python\" \n",
    "s1+s2"
   ]
  },
  {
   "cell_type": "code",
   "execution_count": null,
   "id": "a593b77b-3180-40ad-9488-1beb0776d735",
   "metadata": {},
   "outputs": [],
   "source": []
  }
 ],
 "metadata": {
  "kernelspec": {
   "display_name": "Python 3 (ipykernel)",
   "language": "python",
   "name": "python3"
  },
  "language_info": {
   "codemirror_mode": {
    "name": "ipython",
    "version": 3
   },
   "file_extension": ".py",
   "mimetype": "text/x-python",
   "name": "python",
   "nbconvert_exporter": "python",
   "pygments_lexer": "ipython3",
   "version": "3.12.7"
  }
 },
 "nbformat": 4,
 "nbformat_minor": 5
}
