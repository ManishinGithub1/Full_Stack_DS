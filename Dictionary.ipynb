{
 "cells": [
  {
   "cell_type": "markdown",
   "id": "8bd60f48-9da5-4cfe-abb0-60e5069ee826",
   "metadata": {},
   "source": [
    "Dictionary"
   ]
  },
  {
   "cell_type": "code",
   "execution_count": 2,
   "id": "7df139d8-5de5-41cc-b93c-484da33b1477",
   "metadata": {},
   "outputs": [],
   "source": [
    "a={1:\"Man\",2:\"Benz\",3:\"Thar\"}\n",
    "b={5:\"Audi\",6:\"Lambo\",7:\"Tata\"}"
   ]
  },
  {
   "cell_type": "markdown",
   "id": "a622a17c-f3c7-4c0e-b4bc-e52ba5fe10fa",
   "metadata": {},
   "source": [
    "Keys"
   ]
  },
  {
   "cell_type": "code",
   "execution_count": 5,
   "id": "6dcb0182-f01b-4c19-856f-48f91acce4bb",
   "metadata": {},
   "outputs": [
    {
     "data": {
      "text/plain": [
       "dict_keys([1, 2, 3])"
      ]
     },
     "execution_count": 5,
     "metadata": {},
     "output_type": "execute_result"
    }
   ],
   "source": [
    "a.keys()"
   ]
  },
  {
   "cell_type": "code",
   "execution_count": 7,
   "id": "55d8caca-3f90-4434-b4e4-9f111c422942",
   "metadata": {},
   "outputs": [
    {
     "data": {
      "text/plain": [
       "dict_keys([5, 6, 7])"
      ]
     },
     "execution_count": 7,
     "metadata": {},
     "output_type": "execute_result"
    }
   ],
   "source": [
    "b.keys()\n"
   ]
  },
  {
   "cell_type": "markdown",
   "id": "b13b8b02-0206-4dae-a949-47e4dbdef47b",
   "metadata": {},
   "source": [
    "Values"
   ]
  },
  {
   "cell_type": "code",
   "execution_count": 9,
   "id": "87c860f9-d37c-4e65-881c-fa26c64f43d1",
   "metadata": {},
   "outputs": [
    {
     "data": {
      "text/plain": [
       "dict_values(['Man', 'Benz', 'Thar'])"
      ]
     },
     "execution_count": 9,
     "metadata": {},
     "output_type": "execute_result"
    }
   ],
   "source": [
    "a.values()"
   ]
  },
  {
   "cell_type": "code",
   "execution_count": 11,
   "id": "9c178d62-8b0d-413e-a437-772975ac511f",
   "metadata": {},
   "outputs": [
    {
     "data": {
      "text/plain": [
       "dict_values(['Audi', 'Lambo', 'Tata'])"
      ]
     },
     "execution_count": 11,
     "metadata": {},
     "output_type": "execute_result"
    }
   ],
   "source": [
    "b.values()"
   ]
  },
  {
   "cell_type": "markdown",
   "id": "99506be9-b2d7-4f3d-8f14-646010bc057e",
   "metadata": {},
   "source": [
    "Keys and Values"
   ]
  },
  {
   "cell_type": "code",
   "execution_count": 52,
   "id": "ac4f6132-f4e8-4c8e-a511-96ee7d803f8f",
   "metadata": {},
   "outputs": [
    {
     "data": {
      "text/plain": [
       "dict_items([(1, 'Man'), (2, 'Benz'), (3, 'Thar')])"
      ]
     },
     "execution_count": 52,
     "metadata": {},
     "output_type": "execute_result"
    }
   ],
   "source": [
    "a.items()"
   ]
  },
  {
   "cell_type": "code",
   "execution_count": null,
   "id": "1ce80086-3181-4483-818c-bb6cf1d9a643",
   "metadata": {},
   "outputs": [],
   "source": []
  },
  {
   "cell_type": "code",
   "execution_count": 23,
   "id": "66c5d9fa-bd10-41bd-8084-8e8d1f87416b",
   "metadata": {},
   "outputs": [
    {
     "data": {
      "text/plain": [
       "'Benz'"
      ]
     },
     "execution_count": 23,
     "metadata": {},
     "output_type": "execute_result"
    }
   ],
   "source": [
    "a.get(2)"
   ]
  },
  {
   "cell_type": "code",
   "execution_count": 25,
   "id": "679ec3c7-fe2b-4e06-a498-61aa35ccc0cf",
   "metadata": {},
   "outputs": [
    {
     "data": {
      "text/plain": [
       "'Man'"
      ]
     },
     "execution_count": 25,
     "metadata": {},
     "output_type": "execute_result"
    }
   ],
   "source": [
    "a.get(1)"
   ]
  },
  {
   "cell_type": "code",
   "execution_count": 31,
   "id": "68f5ef32-4495-4fb1-b873-05a16a319a32",
   "metadata": {},
   "outputs": [
    {
     "data": {
      "text/plain": [
       "'Tata'"
      ]
     },
     "execution_count": 31,
     "metadata": {},
     "output_type": "execute_result"
    }
   ],
   "source": [
    "b.get(7)"
   ]
  },
  {
   "cell_type": "markdown",
   "id": "414af0ac-2477-44b0-9b88-9f27418658d6",
   "metadata": {},
   "source": [
    "FromKeys"
   ]
  },
  {
   "cell_type": "code",
   "execution_count": 56,
   "id": "385ecfe0-a915-4a20-9531-591fc9a77a2e",
   "metadata": {},
   "outputs": [],
   "source": [
    "d1={10,20,30,40}\n",
    "d2=['12','34',60]"
   ]
  },
  {
   "cell_type": "code",
   "execution_count": 65,
   "id": "8ced0899-277f-4379-9ffa-6259bce00ba5",
   "metadata": {},
   "outputs": [],
   "source": [
    "my_dict=dict.fromkeys(d1,d2)"
   ]
  },
  {
   "cell_type": "code",
   "execution_count": 67,
   "id": "22fb13c4-0d69-42bf-82f4-cb2c6d52d830",
   "metadata": {},
   "outputs": [],
   "source": [
    "my_dict[0]=0"
   ]
  },
  {
   "cell_type": "code",
   "execution_count": 69,
   "id": "f53c5a24-9127-47f1-98c8-632d8fda8ddc",
   "metadata": {},
   "outputs": [
    {
     "data": {
      "text/plain": [
       "{40: ['12', '34', 60],\n",
       " 10: ['12', '34', 60],\n",
       " 20: ['12', '34', 60],\n",
       " 30: ['12', '34', 60],\n",
       " 0: 0}"
      ]
     },
     "execution_count": 69,
     "metadata": {},
     "output_type": "execute_result"
    }
   ],
   "source": [
    "my_dict\n"
   ]
  },
  {
   "cell_type": "code",
   "execution_count": 71,
   "id": "78cab39e-84e4-4771-9237-3ce0faf96f44",
   "metadata": {},
   "outputs": [],
   "source": [
    "my_dict[0]=['1',3,45,5]"
   ]
  },
  {
   "cell_type": "code",
   "execution_count": 73,
   "id": "5d05e3e4-3ec4-4b0a-b630-265447d8a22f",
   "metadata": {},
   "outputs": [
    {
     "data": {
      "text/plain": [
       "{40: ['12', '34', 60],\n",
       " 10: ['12', '34', 60],\n",
       " 20: ['12', '34', 60],\n",
       " 30: ['12', '34', 60],\n",
       " 0: ['1', 3, 45, 5]}"
      ]
     },
     "execution_count": 73,
     "metadata": {},
     "output_type": "execute_result"
    }
   ],
   "source": [
    "my_dict"
   ]
  },
  {
   "cell_type": "code",
   "execution_count": null,
   "id": "8afcc895-54c5-460c-af12-e0454b32c4f8",
   "metadata": {},
   "outputs": [],
   "source": []
  }
 ],
 "metadata": {
  "kernelspec": {
   "display_name": "Python 3 (ipykernel)",
   "language": "python",
   "name": "python3"
  },
  "language_info": {
   "codemirror_mode": {
    "name": "ipython",
    "version": 3
   },
   "file_extension": ".py",
   "mimetype": "text/x-python",
   "name": "python",
   "nbconvert_exporter": "python",
   "pygments_lexer": "ipython3",
   "version": "3.12.7"
  },
  "panel-cell-order": [
   "c8c9adff-1d2f-4e9f-a69e-ea607e5780ea",
   "7d9b6fdb-f1fe-4554-9373-903dfa694faa",
   "932357f3-b2cb-4951-9fef-39837ef917ba",
   "1326754f-8ea5-480f-9c94-e333341d9ee4"
  ]
 },
 "nbformat": 4,
 "nbformat_minor": 5
}
