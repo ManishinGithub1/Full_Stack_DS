{
 "cells": [
  {
   "cell_type": "markdown",
   "id": "af55cd56-d24c-4c5f-ada6-0f03d7134790",
   "metadata": {},
   "source": [
    "Tuples"
   ]
  },
  {
   "cell_type": "markdown",
   "id": "4dcfb6f3-7b1c-458e-a990-c02c101000cb",
   "metadata": {},
   "source": [
    "Tuples Creation"
   ]
  },
  {
   "cell_type": "code",
   "execution_count": 88,
   "id": "754d42bd-ab41-4e2c-aca1-81fdc8b9004f",
   "metadata": {},
   "outputs": [
    {
     "data": {
      "text/plain": [
       "6"
      ]
     },
     "execution_count": 88,
     "metadata": {},
     "output_type": "execute_result"
    }
   ],
   "source": [
    "t1=()\n",
    "t2=(1,2,3)\n",
    "t3=(3.0,4.2,45.3)\n",
    "t4=(\"Python\",\"ML\",\"AI\")\n",
    "t5=(1,3.4,\"ML\",544,3)\n",
    "t6=(2,3,6,'Java',3,(18,34))\n",
    "t7=(3,5.4,'EDA',{2,3},[23,645],(5.4,94,40))\n",
    "len(t7)"
   ]
  },
  {
   "cell_type": "markdown",
   "id": "a9100129-78a9-4f1d-9ccb-e8d707a2a436",
   "metadata": {},
   "source": [
    "Tuple Indexing"
   ]
  },
  {
   "cell_type": "code",
   "execution_count": 12,
   "id": "e39244ee-5a92-45fd-9175-5c2858c7b6c6",
   "metadata": {},
   "outputs": [
    {
     "data": {
      "text/plain": [
       "45.3"
      ]
     },
     "execution_count": 12,
     "metadata": {},
     "output_type": "execute_result"
    }
   ],
   "source": [
    "t3[2]"
   ]
  },
  {
   "cell_type": "code",
   "execution_count": 14,
   "id": "78728d35-aec7-44f5-990a-5abf432f8a3d",
   "metadata": {},
   "outputs": [
    {
     "data": {
      "text/plain": [
       "'AI'"
      ]
     },
     "execution_count": 14,
     "metadata": {},
     "output_type": "execute_result"
    }
   ],
   "source": [
    "t4[-1]"
   ]
  },
  {
   "cell_type": "code",
   "execution_count": 20,
   "id": "f7c4681f-1d10-4a9c-84b7-a84bbe054de4",
   "metadata": {},
   "outputs": [
    {
     "data": {
      "text/plain": [
       "(1, 3.4)"
      ]
     },
     "execution_count": 20,
     "metadata": {},
     "output_type": "execute_result"
    }
   ],
   "source": [
    "t5[:2]"
   ]
  },
  {
   "cell_type": "code",
   "execution_count": 22,
   "id": "976b3de9-ab8e-4219-995e-25202dce4372",
   "metadata": {},
   "outputs": [
    {
     "data": {
      "text/plain": [
       "'a'"
      ]
     },
     "execution_count": 22,
     "metadata": {},
     "output_type": "execute_result"
    }
   ],
   "source": [
    "t6[3][1]"
   ]
  },
  {
   "cell_type": "code",
   "execution_count": 28,
   "id": "156fc66a-b951-4b2d-9913-7f4bf0b9802d",
   "metadata": {},
   "outputs": [
    {
     "data": {
      "text/plain": [
       "645"
      ]
     },
     "execution_count": 28,
     "metadata": {},
     "output_type": "execute_result"
    }
   ],
   "source": [
    "t7[4][1]"
   ]
  },
  {
   "cell_type": "markdown",
   "id": "871839df-1400-4b25-bdb9-97cf32e297ae",
   "metadata": {},
   "source": [
    "Tuple Slicing"
   ]
  },
  {
   "cell_type": "code",
   "execution_count": 53,
   "id": "37293928-b5b7-408c-891e-11b5f40e2b41",
   "metadata": {},
   "outputs": [],
   "source": [
    "mytup=('one','two','three')\n"
   ]
  },
  {
   "cell_type": "code",
   "execution_count": 33,
   "id": "9a42041a-1c96-4bf9-bfdf-d3341ff290ff",
   "metadata": {},
   "outputs": [
    {
     "data": {
      "text/plain": [
       "('one', 'two')"
      ]
     },
     "execution_count": 33,
     "metadata": {},
     "output_type": "execute_result"
    }
   ],
   "source": [
    "mytup[0:2]"
   ]
  },
  {
   "cell_type": "code",
   "execution_count": 35,
   "id": "e01e0b02-7b6b-4689-8f7b-43159febcdc9",
   "metadata": {},
   "outputs": [
    {
     "data": {
      "text/plain": [
       "({2, 3}, [23, 645], (93, 94, 40))"
      ]
     },
     "execution_count": 35,
     "metadata": {},
     "output_type": "execute_result"
    }
   ],
   "source": [
    "t7[3:9]"
   ]
  },
  {
   "cell_type": "code",
   "execution_count": 37,
   "id": "781d83d6-78ff-48bf-a4d2-f9dc9815f7d4",
   "metadata": {},
   "outputs": [
    {
     "data": {
      "text/plain": [
       "('EDA', [23, 645])"
      ]
     },
     "execution_count": 37,
     "metadata": {},
     "output_type": "execute_result"
    }
   ],
   "source": [
    "t7[2:10:2]"
   ]
  },
  {
   "cell_type": "code",
   "execution_count": 43,
   "id": "d5e063a9-aa44-4e13-b78f-9a780eb78b73",
   "metadata": {},
   "outputs": [
    {
     "data": {
      "text/plain": [
       "((18, 34),)"
      ]
     },
     "execution_count": 43,
     "metadata": {},
     "output_type": "execute_result"
    }
   ],
   "source": [
    "t6[-1:2:-2]"
   ]
  },
  {
   "cell_type": "code",
   "execution_count": 47,
   "id": "081a8f7e-7d26-46ba-b70c-376208381441",
   "metadata": {},
   "outputs": [
    {
     "data": {
      "text/plain": [
       "(3, 544, 'ML')"
      ]
     },
     "execution_count": 47,
     "metadata": {},
     "output_type": "execute_result"
    }
   ],
   "source": [
    "t5[-1:1:-1]"
   ]
  },
  {
   "cell_type": "code",
   "execution_count": 55,
   "id": "da561254-7bce-4d8a-aa85-46956a0b82fc",
   "metadata": {},
   "outputs": [],
   "source": [
    "del mytup"
   ]
  },
  {
   "cell_type": "markdown",
   "id": "47745af1-4470-41dd-bf8c-cd3a6abd8cb0",
   "metadata": {},
   "source": [
    "Tuple Membership"
   ]
  },
  {
   "cell_type": "code",
   "execution_count": 58,
   "id": "5784dbe0-5304-40cc-b33f-4d912fd11106",
   "metadata": {},
   "outputs": [
    {
     "data": {
      "text/plain": [
       "True"
      ]
     },
     "execution_count": 58,
     "metadata": {},
     "output_type": "execute_result"
    }
   ],
   "source": [
    "'Python' in t4"
   ]
  },
  {
   "cell_type": "code",
   "execution_count": 60,
   "id": "0198479e-ad85-4fa4-b1ba-6987e343b4ae",
   "metadata": {},
   "outputs": [
    {
     "data": {
      "text/plain": [
       "False"
      ]
     },
     "execution_count": 60,
     "metadata": {},
     "output_type": "execute_result"
    }
   ],
   "source": [
    "\"Ai\" in t5"
   ]
  },
  {
   "cell_type": "markdown",
   "id": "23f66926-50f0-44b8-a348-e26930b72a64",
   "metadata": {},
   "source": [
    "Tuple functions"
   ]
  },
  {
   "cell_type": "code",
   "execution_count": 64,
   "id": "53c6f3c7-39ab-478a-97f7-7013fd6d52d6",
   "metadata": {},
   "outputs": [
    {
     "data": {
      "text/plain": [
       "2"
      ]
     },
     "execution_count": 64,
     "metadata": {},
     "output_type": "execute_result"
    }
   ],
   "source": [
    "t5.index(\"ML\")"
   ]
  },
  {
   "cell_type": "code",
   "execution_count": 69,
   "id": "f61eaab8-9754-4483-aaff-ef8f4b474f4f",
   "metadata": {},
   "outputs": [
    {
     "data": {
      "text/plain": [
       "1"
      ]
     },
     "execution_count": 69,
     "metadata": {},
     "output_type": "execute_result"
    }
   ],
   "source": [
    "t7.count(5.4)"
   ]
  },
  {
   "cell_type": "code",
   "execution_count": 75,
   "id": "d2ff0808-0abf-455d-9778-b0a8c30b41c9",
   "metadata": {},
   "outputs": [
    {
     "data": {
      "text/plain": [
       "2"
      ]
     },
     "execution_count": 75,
     "metadata": {},
     "output_type": "execute_result"
    }
   ],
   "source": [
    "t6.count(3)"
   ]
  },
  {
   "cell_type": "markdown",
   "id": "6803266e-ba4b-4780-b186-7a2f81f9c3af",
   "metadata": {},
   "source": [
    "Tuple Sorting"
   ]
  },
  {
   "cell_type": "code",
   "execution_count": 80,
   "id": "c121d67a-e442-411c-89fb-9868a502872c",
   "metadata": {},
   "outputs": [
    {
     "data": {
      "text/plain": [
       "(3, 5.4, 'EDA', {2, 3}, [23, 645], (5.4, 94, 40))"
      ]
     },
     "execution_count": 80,
     "metadata": {},
     "output_type": "execute_result"
    }
   ],
   "source": [
    "t7"
   ]
  },
  {
   "cell_type": "code",
   "execution_count": 94,
   "id": "2f71e370-b9ec-47b2-ae0e-61ab0aef229d",
   "metadata": {},
   "outputs": [
    {
     "data": {
      "text/plain": [
       "(1, 2, 3)"
      ]
     },
     "execution_count": 94,
     "metadata": {},
     "output_type": "execute_result"
    }
   ],
   "source": [
    "t2"
   ]
  },
  {
   "cell_type": "code",
   "execution_count": 102,
   "id": "773d39dc-0aef-4947-a242-c16519ad60de",
   "metadata": {},
   "outputs": [
    {
     "data": {
      "text/plain": [
       "[3, 2, 1]"
      ]
     },
     "execution_count": 102,
     "metadata": {},
     "output_type": "execute_result"
    }
   ],
   "source": [
    "sorted(t2,reverse=True)"
   ]
  },
  {
   "cell_type": "code",
   "execution_count": 110,
   "id": "ff6c0ef1-2279-4a18-a3d6-8755fc9f8fdf",
   "metadata": {},
   "outputs": [
    {
     "data": {
      "text/plain": [
       "()"
      ]
     },
     "execution_count": 110,
     "metadata": {},
     "output_type": "execute_result"
    }
   ],
   "source": [
    "t1"
   ]
  },
  {
   "cell_type": "code",
   "execution_count": null,
   "id": "e9e7834b-621a-4c31-87b7-6608ff4cd5ba",
   "metadata": {},
   "outputs": [],
   "source": [
    "s"
   ]
  }
 ],
 "metadata": {
  "kernelspec": {
   "display_name": "Python 3 (ipykernel)",
   "language": "python",
   "name": "python3"
  },
  "language_info": {
   "codemirror_mode": {
    "name": "ipython",
    "version": 3
   },
   "file_extension": ".py",
   "mimetype": "text/x-python",
   "name": "python",
   "nbconvert_exporter": "python",
   "pygments_lexer": "ipython3",
   "version": "3.12.7"
  }
 },
 "nbformat": 4,
 "nbformat_minor": 5
}
