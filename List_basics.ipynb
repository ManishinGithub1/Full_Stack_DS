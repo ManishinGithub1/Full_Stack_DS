{
 "cells": [
  {
   "cell_type": "markdown",
   "id": "4bc8dc5c-755a-49ee-b10f-e434b61f320e",
   "metadata": {},
   "source": [
    "List Introduction"
   ]
  },
  {
   "cell_type": "code",
   "execution_count": 2,
   "id": "09eff002-9648-43ca-8f61-386f6a8dd012",
   "metadata": {},
   "outputs": [
    {
     "name": "stdout",
     "output_type": "stream",
     "text": [
      "<class 'list'>\n"
     ]
    }
   ],
   "source": [
    "l=[]\n",
    "print(type(l))"
   ]
  },
  {
   "cell_type": "code",
   "execution_count": 4,
   "id": "696c4086-bdbc-419e-a0a9-82f85ce06b67",
   "metadata": {},
   "outputs": [
    {
     "data": {
      "text/plain": [
       "0"
      ]
     },
     "execution_count": 4,
     "metadata": {},
     "output_type": "execute_result"
    }
   ],
   "source": [
    "len(l)"
   ]
  },
  {
   "cell_type": "markdown",
   "id": "2873162b-4ee7-4fa8-827a-39e411eff25e",
   "metadata": {},
   "source": [
    "Append #Combines with the new element at last."
   ]
  },
  {
   "cell_type": "code",
   "execution_count": 8,
   "id": "c51e6ea4-7dc0-41a6-92d2-d6bad0e15946",
   "metadata": {},
   "outputs": [],
   "source": [
    "l.append(10)\n",
    "l.append(20)\n",
    "l.append(30)\n",
    "l.append(40)"
   ]
  },
  {
   "cell_type": "code",
   "execution_count": 10,
   "id": "bea26efa-c7b9-4772-8616-2ba2c85aafeb",
   "metadata": {},
   "outputs": [
    {
     "data": {
      "text/plain": [
       "[10, 10, 20, 30, 40]"
      ]
     },
     "execution_count": 10,
     "metadata": {},
     "output_type": "execute_result"
    }
   ],
   "source": [
    "l\n"
   ]
  },
  {
   "cell_type": "markdown",
   "id": "7c307e81-b579-477d-9e7b-b4f80923f7cb",
   "metadata": {},
   "source": [
    "Copy - Copies the list to the declared empty list."
   ]
  },
  {
   "cell_type": "code",
   "execution_count": 30,
   "id": "975a8c05-a06a-42f0-a138-ad87802739b2",
   "metadata": {},
   "outputs": [
    {
     "data": {
      "text/plain": [
       "[10, 10, 20, 30, 40, 0, 1, 2, 3, 4, 5, 6, 7, 8, 9]"
      ]
     },
     "execution_count": 30,
     "metadata": {},
     "output_type": "execute_result"
    }
   ],
   "source": [
    "ll=l.copy()\n",
    "ll\n"
   ]
  },
  {
   "cell_type": "code",
   "execution_count": 32,
   "id": "eaa59355-3ea9-48e0-9e52-884f24149f3d",
   "metadata": {},
   "outputs": [
    {
     "name": "stdout",
     "output_type": "stream",
     "text": [
      "1482229248064\n",
      "1482284310784\n"
     ]
    }
   ],
   "source": [
    "print(id(l))\n",
    "print(id(ll))"
   ]
  },
  {
   "cell_type": "code",
   "execution_count": 34,
   "id": "df46c5e8-afaa-4b16-bd4e-f88a3d5f7f9c",
   "metadata": {},
   "outputs": [
    {
     "name": "stdout",
     "output_type": "stream",
     "text": [
      "[10, 10, 20, 30, 40, 0, 1, 2, 3, 4, 5, 6, 7, 8, 9] [10, 10, 20, 30, 40, 0, 1, 2, 3, 4, 5, 6, 7, 8, 9]\n"
     ]
    }
   ],
   "source": [
    "print(l,ll)"
   ]
  },
  {
   "cell_type": "code",
   "execution_count": 36,
   "id": "033e1808-a989-4dc8-83da-ca7b05b1852c",
   "metadata": {},
   "outputs": [
    {
     "data": {
      "text/plain": [
       "True"
      ]
     },
     "execution_count": 36,
     "metadata": {},
     "output_type": "execute_result"
    }
   ],
   "source": [
    "ll==l"
   ]
  },
  {
   "cell_type": "code",
   "execution_count": 38,
   "id": "53486468-6092-4912-a049-86a94843da72",
   "metadata": {},
   "outputs": [
    {
     "data": {
      "text/plain": [
       "False"
      ]
     },
     "execution_count": 38,
     "metadata": {},
     "output_type": "execute_result"
    }
   ],
   "source": [
    "ll!=l"
   ]
  },
  {
   "cell_type": "markdown",
   "id": "8dddce6b-88ee-45b8-9ef5-673e17d0be6a",
   "metadata": {},
   "source": [
    "reverse - it reverse the elements of the list"
   ]
  },
  {
   "cell_type": "code",
   "execution_count": 70,
   "id": "d38f7de8-84e7-4740-a96c-440b1b6720fc",
   "metadata": {},
   "outputs": [
    {
     "data": {
      "text/plain": [
       "[9, 8, 7, 6, 5, 4, 3, 2, 1, 0, 40, 30, 20]"
      ]
     },
     "execution_count": 70,
     "metadata": {},
     "output_type": "execute_result"
    }
   ],
   "source": [
    "l.reverse()\n",
    "l"
   ]
  },
  {
   "cell_type": "markdown",
   "id": "2d993758-8375-4a46-8d21-f76fa166d244",
   "metadata": {},
   "source": [
    "remove(e) - removes the first occurrence of the element 'e'"
   ]
  },
  {
   "cell_type": "code",
   "execution_count": 68,
   "id": "632c865c-afb1-4836-be46-70b9d7e3dbc5",
   "metadata": {},
   "outputs": [
    {
     "data": {
      "text/plain": [
       "[20, 30, 40, 0, 1, 2, 3, 4, 5, 6, 7, 8, 9]"
      ]
     },
     "execution_count": 68,
     "metadata": {},
     "output_type": "execute_result"
    }
   ],
   "source": [
    "l.remove(10)\n",
    "l"
   ]
  },
  {
   "cell_type": "code",
   "execution_count": 76,
   "id": "d382d539-4cea-4ad5-ba3c-5cb93b2b0d66",
   "metadata": {},
   "outputs": [
    {
     "data": {
      "text/plain": [
       "[9,\n",
       " 8,\n",
       " 7,\n",
       " 6,\n",
       " 5,\n",
       " 4,\n",
       " 3,\n",
       " 2,\n",
       " 1,\n",
       " 0,\n",
       " 40,\n",
       " 30,\n",
       " 20,\n",
       " [20, 30, 40, 0, 1, 2, 3, 4, 5, 6, 7, 8],\n",
       " [20, 30, 40, 0, 1, 2, 3, 4, 5, 6, 7, 8],\n",
       " [20, 30, 40, 0, 1, 2, 3, 4, 5, 6, 7, 8]]"
      ]
     },
     "execution_count": 76,
     "metadata": {},
     "output_type": "execute_result"
    }
   ],
   "source": [
    "l.append(ll)# done 3 times\n",
    "l"
   ]
  },
  {
   "cell_type": "code",
   "execution_count": 78,
   "id": "abe29861-cb8a-49ca-a812-f9235b9be0ca",
   "metadata": {},
   "outputs": [
    {
     "data": {
      "text/plain": [
       "[20, 30, 40, 0, 1, 2, 3, 4, 5, 6, 7, 8]"
      ]
     },
     "execution_count": 78,
     "metadata": {},
     "output_type": "execute_result"
    }
   ],
   "source": [
    "ll"
   ]
  },
  {
   "cell_type": "markdown",
   "id": "24344e6d-1acc-49e4-a670-d384b18cba98",
   "metadata": {},
   "source": [
    "count(e) - counts the number of times the element 'e' has occurred."
   ]
  },
  {
   "cell_type": "code",
   "execution_count": 80,
   "id": "6d51025a-37db-4872-9667-e807f6ae5259",
   "metadata": {},
   "outputs": [
    {
     "data": {
      "text/plain": [
       "1"
      ]
     },
     "execution_count": 80,
     "metadata": {},
     "output_type": "execute_result"
    }
   ],
   "source": [
    "l.count(3)"
   ]
  },
  {
   "cell_type": "code",
   "execution_count": 91,
   "id": "b878ce67-9332-41d1-8c9e-ba2c285d24da",
   "metadata": {},
   "outputs": [],
   "source": [
    "l.append(0)\n"
   ]
  },
  {
   "cell_type": "code",
   "execution_count": null,
   "id": "bf768590-c9f5-4bc2-a2b2-d259f5c00b1d",
   "metadata": {},
   "outputs": [],
   "source": [
    "l"
   ]
  }
 ],
 "metadata": {
  "kernelspec": {
   "display_name": "Python 3 (ipykernel)",
   "language": "python",
   "name": "python3"
  },
  "language_info": {
   "codemirror_mode": {
    "name": "ipython",
    "version": 3
   },
   "file_extension": ".py",
   "mimetype": "text/x-python",
   "name": "python",
   "nbconvert_exporter": "python",
   "pygments_lexer": "ipython3",
   "version": "3.12.7"
  }
 },
 "nbformat": 4,
 "nbformat_minor": 5
}
